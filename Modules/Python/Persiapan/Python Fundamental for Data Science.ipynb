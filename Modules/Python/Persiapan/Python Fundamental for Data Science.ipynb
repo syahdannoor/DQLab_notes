{
 "cells": [
  {
   "cell_type": "markdown",
   "metadata": {},
   "source": [
    "# What's Python"
   ]
  },
  {
   "cell_type": "markdown",
   "metadata": {},
   "source": [
    "## Pendahuluan Tentang Python\n",
    "Python merupakan bahasa pemrograman yang diciptakan pada tahun 1991 oleh Guido van Russom, seorang matematikawan.\n",
    "\n",
    "Saat ini python merupakan bahasa pemrograman populer. Kondisi ini dibuktikan dengan hasil beberapa survey terkait bahasa pemrograman yang sering dicari melalui mesin pencari google. Python berhasil naik dengan melonjak tajam semenjak kelahirannya bahkan saat ini telah mengungguli Java. Menurut insight developer survey dari stackoverflow pada tahun 2018 atau melalui TIOBE Index, Python berhasil naik pada TOP 10 programming language yang paling dicari menggungguli seniornya, C, PHP, dan C#.\n",
    "\n",
    "Python dapat dikatakan sebagai programming language dengan perkembangan tercepat. Perkembangan ini didukung oleh library atau pustaka python yang cukup melimpah. Libraries (pustaka-pustaka) python ini dikontribusikan oleh akademisi dari berbagai universitas di seluruh dunia serta developer dari perusahaan IT ternama seperti Google, Facebook, Microsoft, Apache Software Foundation, dan perusahaan lainnya. Dengan demikian, hal inilah yang menjadikan python sebagai salah satu programming language yang solid dan berkembang pesat.\n",
    "\n",
    "Python sendiri berguna dalam berbagai aspek :\n",
    "\n",
    "* Web Development (Server – Side)\n",
    "* Software Development\n",
    "* Mathematics\n",
    "* Scripting\n",
    "* Data Science\n",
    "* Bisa mengelola Big Data dan Rumus matematika yang complex\n",
    "* Cocok untuk riset dan rapid prototype suatu product dan launch hingga produksi\n",
    "* CRUD sebuah file dan database\n",
    "\n",
    "Kepopuleran python sendiri sekarang ada pada track data science. Banyaknya library dan framework seperti scikit-learn, tensorflow/keras, pytorch membuat para pecinta data mining, AI, dan Machine learning lebih menyukai python untuk pengembangan riset dan penelitian mereka. Berkembangnya dunia data science didunia ini juga salah satu alasan kenapa python menjadi begitu populer sekarang."
   ]
  },
  {
   "cell_type": "markdown",
   "metadata": {},
   "source": [
    "## Mengapa Python Populer\n",
    "Meningkatnya minat masyarakat dunia terhadap data science menyebabkan penggunaan Python menjadi sangat populer. Python merupakan salah satu programming language yang cocok untuk scripting dan bisa berjalan dalam berbagai platform OS dan IoT. Meskipun tergolong sebagai high level programming language, python sangat mudah dimengerti karena syntax-nya yang sederhana. Jika diperhatikan, python sangat mirip penulisannya dengan bahasa Inggris.\n",
    "\n",
    "Python dapat digunakan dalam paradigma pemrograman fungsional dan berorientasi object (OOP - object oriented programming). Berbeda dengan C, C++, dan Java yang berjenis kompilasi, Python merupakan bahasa pemrograman berjenis interpretasi yang artinya code yang sudah ditulis bisa dijalankan sesegera mungkin.\n",
    "\n",
    "Beberapa hal yang menjadi kelebihan dari python:\n",
    "\n",
    "* Python dirancang untuk mudah ditulis dan dibaca, serta memiliki beberapa kesamaan dengan bahasa Inggris dengan pengaruh dari matematika.\n",
    "* Python menggunakan baris baru untuk mengakhiri perintah, dibandingkan dengan bahasa pemrograman lain yang sering menggunakan titik koma atau tanda kurung.\n",
    "* Python bergantung pada indentasi, menggunakan spasi, untuk mendefinisikan ruang lingkup; seperti lingkup loop, fungsi, dan kelas. Bahasa pemrograman lainnya sering menggunakan kurung kurawal untuk tujuan ini\n",
    "* Jika kalian mencari di internet tentang programming python, biasanya akan ada 2 jenis python, python 2 dan python 3. Versi utama Python yang paling baru adalah Python 3 dan digunakan dalam platform academy ini. Saat ini, python 2 sudah memasuki end-of-life pada Januari 2020."
   ]
  },
  {
   "cell_type": "code",
   "execution_count": 1,
   "metadata": {},
   "outputs": [
    {
     "name": "stdout",
     "output_type": "stream",
     "text": [
      "Hello World\n"
     ]
    }
   ],
   "source": [
    "print (\"Hello World\")"
   ]
  },
  {
   "cell_type": "code",
   "execution_count": 2,
   "metadata": {},
   "outputs": [
    {
     "name": "stdout",
     "output_type": "stream",
     "text": [
      "Hello World\n",
      "6\n"
     ]
    }
   ],
   "source": [
    "print (\"Hello World\")\n",
    "print(5+1)"
   ]
  },
  {
   "cell_type": "markdown",
   "metadata": {},
   "source": [
    "## Tugas Praktek"
   ]
  },
  {
   "cell_type": "code",
   "execution_count": 4,
   "metadata": {},
   "outputs": [
    {
     "name": "stdout",
     "output_type": "stream",
     "text": [
      "25\n",
      "Academy DQLab\n"
     ]
    }
   ],
   "source": [
    "'''\n",
    "Tampilkan hasil perhitungan (10*2+5) pada baris pertama.\n",
    "tampilkan teks \"Academy DQLab\" pada baris kedua.\n",
    "'''\n",
    "\n",
    "print (10*2+5)\n",
    "print (\"Academy DQLab\")"
   ]
  },
  {
   "cell_type": "markdown",
   "metadata": {},
   "source": [
    "## Comment Pada Python"
   ]
  },
  {
   "cell_type": "code",
   "execution_count": 5,
   "metadata": {},
   "outputs": [
    {
     "name": "stdout",
     "output_type": "stream",
     "text": [
      "Ini adalah sebuah baris kode\n"
     ]
    }
   ],
   "source": [
    "print(\"Ini adalah sebuah baris kode\")#ini adalah contoh comment dan tidak akan tercetak"
   ]
  },
  {
   "cell_type": "markdown",
   "metadata": {},
   "source": [
    "## Tugas Praktek\n",
    "Berikan keterangan untuk setiap baris program dengan perintah comment:\n",
    "```python\n",
    "print(10*2+5) #fungsi matematika\n",
    "print(\"Academy DQLab\") #fungsi mencetak kalimat\n",
    "```"
   ]
  },
  {
   "cell_type": "code",
   "execution_count": 6,
   "metadata": {},
   "outputs": [
    {
     "name": "stdout",
     "output_type": "stream",
     "text": [
      "25\n",
      "Academy DQLab\n"
     ]
    }
   ],
   "source": [
    "print(10*2+5) #fungsi matematika\n",
    "print(\"Academy DQLab\") #fungsi mencetak kalimat"
   ]
  },
  {
   "cell_type": "markdown",
   "metadata": {},
   "source": [
    "## Variable, Basic Data Type and Print\n",
    "\n",
    "Penggunaan variabel atau suatu objek yang bisa merepresentasikan sebuah nilai atau value sangat penting dalam bahasa pemrograman. Selain itu mempermudah dalam membaca source code, pemberian variable yang efisien juga akan membuat code berjalan optimal dan dinamis. Pada sesi kali ini kita akan belajar bagaimana cara inisialisasi variable dalam beberapa data type dan menampilkannya (print).\n",
    "\n",
    "| Tipe Data | Contoh | Penjelasan |\n",
    "| --- | --- | --- |\n",
    "| Boolean | True atau False | Menyatakan benar True yang bernilai 1, atau salah False yang bernilai 0 |\n",
    "| String | \"Ayo belajar Python\" | Menyatakan karakter/kalimat bisa berupa huruf angka, dll (diapit tanda \" atau ') |\n",
    "| Integer | 25 atau 1209 | Menyatakan bilangan bulat |\n",
    "| Float | 3.14 atau 0.99 | Menyatakan bilangan yang mempunyai koma |\n",
    "| List | ['xyz', 786, 2.23] | Data untaian yang menyimpan berbagai tipe data dan isinya bisa diubah-ubah |\n",
    "| Tuple | ('xyz', 768, 2.23) | Data untaian yang menyimpan berbagai tipe data tapi isinya tidak bisa diubah |\n",
    "| Dictionary | {'nama': 'adi','id':2} | Data untaian yang menyimpan berbagai tipe data berupa pasangan penunjuk dan nilai |"
   ]
  },
  {
   "cell_type": "markdown",
   "metadata": {},
   "source": [
    "## Printing Data Type"
   ]
  },
  {
   "cell_type": "code",
   "execution_count": 7,
   "metadata": {},
   "outputs": [
    {
     "name": "stdout",
     "output_type": "stream",
     "text": [
      "True\n",
      "Ayo belajar Python\n",
      "Belajar Python Sangat Mudah di DQLAB\n",
      "20\n",
      "3.14\n",
      "[1, 2, 3, 4, 5]\n",
      "['satu', 'dua', 'tiga']\n",
      "(1, 2, 3, 4, 5)\n",
      "('satu', 'dua', 'tiga')\n",
      "{'nama': 'Budi', 'umur': 20}\n",
      "{'nama': 'Andi', 'umur': 21}\n"
     ]
    },
    {
     "data": {
      "text/plain": [
       "dict"
      ]
     },
     "execution_count": 7,
     "metadata": {},
     "output_type": "execute_result"
    }
   ],
   "source": [
    "#tipe data Boolean\n",
    "print(True)\n",
    "\n",
    "\n",
    "#tipe data String\n",
    "print(\"Ayo belajar Python\")\n",
    "print('Belajar Python Sangat Mudah di DQLAB')\n",
    "\n",
    "\n",
    "#tipe data Integer\n",
    "print(20)\n",
    "\n",
    "\n",
    "#tipe data Float\n",
    "print(3.14)\n",
    "\n",
    "\n",
    "#tipe data List\n",
    "print([1,2,3,4,5])\n",
    "print([\"satu\", \"dua\", \"tiga\"])\n",
    "\n",
    "\n",
    "#tipe data Tuple\n",
    "print((1,2,3,4,5))\n",
    "print((\"satu\", \"dua\", \"tiga\"))\n",
    "\n",
    "\n",
    "#tipe data Dictionary\n",
    "print({\"nama\":\"Budi\", 'umur':20})\n",
    "\n",
    "#tipe data Dictionary dimasukan ke dalam variabel biodata\n",
    "biodata = {\"nama\":\"Andi\", 'umur':21} #proses inisialisasi variabel biodata\n",
    "print(biodata) #proses pencetakan variabel biodata yang berisi tipe data Dictionary\n",
    "type(biodata) #fungsi untuk mengecek jenis tipe data. akan tampil <class 'dict'>"
   ]
  },
  {
   "cell_type": "markdown",
   "metadata": {},
   "source": [
    "## Tugas Praktek\n",
    "\n",
    "```python\n",
    "var_string=\"Belajar Python DQLAB\"\n",
    "var_int=10\n",
    "var_float=3.14\n",
    "var_list=[1,2,3,4]\n",
    "var_tuple=(\"satu\",\"dua\",\"tiga\")\n",
    "var_dict={\"nama\":\"Ali\", 'umur':20}\n",
    "\n",
    "\n",
    "print(var_string)\n",
    "print(var_int)\n",
    "print(var_float)\n",
    "print(var_list)\n",
    "print(var_tuple)\n",
    "print(var_dict)\n",
    "```\n",
    "\n",
    "```python\n",
    "print(type(var_string))\n",
    "print(type(var_int))\n",
    "print(type(var_float))\n",
    "print(type(var_list))\n",
    "print(type(var_tuple))\n",
    "print(type(var_dict))\n",
    "```"
   ]
  },
  {
   "cell_type": "code",
   "execution_count": 8,
   "metadata": {},
   "outputs": [
    {
     "name": "stdout",
     "output_type": "stream",
     "text": [
      "Belajar Python DQLab\n",
      "10\n",
      "3.14\n",
      "[1, 2, 3, 4]\n",
      "('satu', 'dua', 'tiga')\n",
      "{'nama': 'Ali', 'umur': 20}\n",
      "<class 'str'>\n",
      "<class 'int'>\n",
      "<class 'float'>\n",
      "<class 'list'>\n",
      "<class 'tuple'>\n",
      "<class 'dict'>\n"
     ]
    }
   ],
   "source": [
    "var_string = \"Belajar Python DQLab\"\n",
    "var_int = 10\n",
    "var_float = 3.14\n",
    "var_list = [1,2,3,4]\n",
    "var_tuple = (\"satu\",\"dua\",\"tiga\")\n",
    "var_dict = {\"nama\":\"Ali\",'umur':20}\n",
    "\n",
    "print (var_string)\n",
    "print (var_int)\n",
    "print (var_float)\n",
    "print (var_list)\n",
    "print (var_tuple)\n",
    "print (var_dict)\n",
    "\n",
    "print (type(var_string))\n",
    "print (type(var_int))\n",
    "print (type(var_float))\n",
    "print (type(var_list))\n",
    "print (type(var_tuple))\n",
    "print (type(var_dict))"
   ]
  }
 ],
 "metadata": {
  "kernelspec": {
   "display_name": "Python 3.10.5 64-bit",
   "language": "python",
   "name": "python3"
  },
  "language_info": {
   "codemirror_mode": {
    "name": "ipython",
    "version": 3
   },
   "file_extension": ".py",
   "mimetype": "text/x-python",
   "name": "python",
   "nbconvert_exporter": "python",
   "pygments_lexer": "ipython3",
   "version": "3.10.5"
  },
  "orig_nbformat": 4,
  "vscode": {
   "interpreter": {
    "hash": "e7370f93d1d0cde622a1f8e1c04877d8463912d04d973331ad4851f04de6915a"
   }
  }
 },
 "nbformat": 4,
 "nbformat_minor": 2
}
